{
 "cells": [
  {
   "cell_type": "markdown",
   "id": "d3bfc191-8885-42ee-b0a0-bbab867c6f9f",
   "metadata": {
    "tags": []
   },
   "source": [
    "# Lab | Flow Control"
   ]
  },
  {
   "cell_type": "markdown",
   "id": "3851fcd1-cf98-4653-9c89-e003b7ec9400",
   "metadata": {},
   "source": [
    "## Exercise: Managing Customer Orders Optimized\n",
    "\n",
    "In the last lab, you were starting an online store that sells various products. To ensure smooth operations, you developed a program that manages customer orders and inventory.\n",
    "\n",
    "You did so without using flow control. Let's go a step further and improve this code.\n",
    "\n",
    "Follow the steps below to complete the exercise:\n",
    "\n",
    "1. Look at your code from the lab data structures, and improve repeated code with loops.\n",
    "\n",
    "2. Instead of asking the user to input the name of three products that a customer wants to order, do the following:\n",
    "    \n",
    "    a. Prompt the user to enter the name of a product that a customer wants to order.\n",
    "    \n",
    "    b. Add the product name to the \"customer_orders\" set.\n",
    "    \n",
    "    c. Ask the user if they want to add another product (yes/no).\n",
    "    \n",
    "    d. Continue the loop until the user does not want to add another product.\n",
    "\n",
    "3. Instead of updating the inventory by subtracting 1 from the quantity of each product, only do it for  the products that were ordered (those in \"customer_orders\")."
   ]
  },
  {
   "cell_type": "code",
   "execution_count": 66,
   "id": "481ffcf5-698c-4d14-9e64-0490bd3a3304",
   "metadata": {},
   "outputs": [
    {
     "name": "stdin",
     "output_type": "stream",
     "text": [
      "Pls enter a quantity:  10\n",
      "Pls enter a quantity:  20\n",
      "Pls enter a quantity:  30\n",
      "Pls enter a quantity:  40\n",
      "Pls enter a quantity:  50\n"
     ]
    },
    {
     "name": "stdout",
     "output_type": "stream",
     "text": [
      "{'t-shirt': 10, 'mug': 20, 'hat': 30, 'book': 40, 'keychain': 50}\n"
     ]
    }
   ],
   "source": [
    "#1. Look at your code from the lab data structures, and improve repeated code with loops.\n",
    "products = [\"t-shirt\", \"mug\", \"hat\", \"book\", \"keychain\"] \n",
    "inventory = {}\n",
    "for product in products:\n",
    "    quantity = int(input(\"Pls enter a quantity: \"))\n",
    "    inventory[product] = quantity\n",
    "\n",
    "print(inventory)"
   ]
  },
  {
   "cell_type": "code",
   "execution_count": 82,
   "id": "a6136885-ee9a-41c1-8b31-8a02879b268e",
   "metadata": {},
   "outputs": [
    {
     "name": "stdin",
     "output_type": "stream",
     "text": [
      "Enter the name of a product that the customer wants to order:  mug\n",
      "Do you want to add another product? (yes/no):  yes\n",
      "Enter the name of a product that the customer wants to order:  hat\n",
      "Do you want to add another product? (yes/no):  yes\n",
      "Enter the name of a product that the customer wants to order:  book\n",
      "Do you want to add another product? (yes/no):  no\n"
     ]
    },
    {
     "name": "stdout",
     "output_type": "stream",
     "text": [
      "Customer Orders: {'mug', 'hat', 'book'}\n"
     ]
    }
   ],
   "source": [
    "#2. Instead of asking the user to input the name of three products that a customer wants to order, do the following:\n",
    "#a. Prompt the user to enter the name of a product that a customer wants to order.\n",
    "#b. Add the product name to the \"customer_orders\" set.\n",
    "#c. Ask the user if they want to add another product (yes/no).\n",
    "#d. Continue the loop until the user does not want to add another product.\n",
    "\n",
    "customer_orders = set() \n",
    "\n",
    "add_product = True\n",
    "while add_product:\n",
    "    product_name = input(\"Enter the name of a product that the customer wants to order: \")\n",
    "    customer_orders.add(product_name)\n",
    "\n",
    "    another_product = input(\"Do you want to add another product? (yes/no): \").lower()\n",
    "    if another_product != \"yes\":\n",
    "        add_product = False\n",
    "\n",
    "print(\"Customer Orders:\", customer_orders)"
   ]
  },
  {
   "cell_type": "code",
   "execution_count": 84,
   "id": "db13c84c-242b-426e-abd0-27a1383fbe44",
   "metadata": {},
   "outputs": [
    {
     "name": "stdout",
     "output_type": "stream",
     "text": [
      "The amount of t-shirt avialable in the inventory is: 10\n",
      "The amount of mug avialable in the inventory is: 19\n",
      "The amount of hat avialable in the inventory is: 29\n",
      "The amount of book avialable in the inventory is: 39\n",
      "The amount of keychain avialable in the inventory is: 50\n"
     ]
    }
   ],
   "source": [
    "#1. Instead of updating the inventory by subtracting 1 from the quantity of each product, \n",
    "#only do it for the products that were ordered (those in \"customer_orders\").\n",
    "\n",
    "for item in customer_orders: \n",
    "    inventory[item] -= 1\n",
    "\n",
    "for key, value in inventory.items():\n",
    "    print(f\"The amount of {key} available in the inventory is: {value}\")\n",
    "\n"
   ]
  },
  {
   "cell_type": "code",
   "execution_count": null,
   "id": "29e72608-8514-4063-941d-0daa771c1ea8",
   "metadata": {},
   "outputs": [],
   "source": []
  }
 ],
 "metadata": {
  "kernelspec": {
   "display_name": "Python [conda env:base] *",
   "language": "python",
   "name": "conda-base-py"
  },
  "language_info": {
   "codemirror_mode": {
    "name": "ipython",
    "version": 3
   },
   "file_extension": ".py",
   "mimetype": "text/x-python",
   "name": "python",
   "nbconvert_exporter": "python",
   "pygments_lexer": "ipython3",
   "version": "3.12.7"
  }
 },
 "nbformat": 4,
 "nbformat_minor": 5
}
